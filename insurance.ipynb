{
 "cells": [
  {
   "cell_type": "code",
   "execution_count": 1,
   "id": "2fe1367d-96ee-4113-a34b-3f1256b2a3a1",
   "metadata": {},
   "outputs": [
    {
     "name": "stdout",
     "output_type": "stream",
     "text": [
      "insurance.csv file created with 1338 rows.\n"
     ]
    }
   ],
   "source": [
    "import pandas as pd\n",
    "import numpy as np\n",
    "\n",
    "np.random.seed(42)\n",
    "\n",
    "n = 1338\n",
    "\n",
    "age = np.random.randint(18, 65, size=n)\n",
    "sex = np.random.choice(['male', 'female'], size=n)\n",
    "bmi = np.round(np.random.normal(30, 6, size=n), 1)\n",
    "children = np.random.randint(0, 5, size=n)\n",
    "smoker = np.random.choice(['yes', 'no'], size=n, p=[0.2, 0.8])\n",
    "region = np.random.choice(['northeast', 'northwest', 'southeast', 'southwest'], size=n)\n",
    "\n",
    "expenses = (\n",
    "    250 + \n",
    "    age * 200 + \n",
    "    bmi * 300 + \n",
    "    children * 400 + \n",
    "    np.where(smoker == 'yes', 15000, 0) + \n",
    "    np.random.normal(0, 1000, size=n)\n",
    ")\n",
    "\n",
    "df = pd.DataFrame({\n",
    "    'age': age,\n",
    "    'sex': sex,\n",
    "    'bmi': bmi,\n",
    "    'children': children,\n",
    "    'smoker': smoker,\n",
    "    'region': region,\n",
    "    'expenses': np.round(expenses, 2)\n",
    "})\n",
    "\n",
    "df.to_csv('insurance.csv', index=False)\n",
    "print(\"insurance.csv file created with 1338 rows.\")\n"
   ]
  },
  {
   "cell_type": "code",
   "execution_count": null,
   "id": "f060518d-9afd-4d85-b84c-865b7026c969",
   "metadata": {},
   "outputs": [],
   "source": []
  }
 ],
 "metadata": {
  "kernelspec": {
   "display_name": "Python 3 (ipykernel)",
   "language": "python",
   "name": "python3"
  },
  "language_info": {
   "codemirror_mode": {
    "name": "ipython",
    "version": 3
   },
   "file_extension": ".py",
   "mimetype": "text/x-python",
   "name": "python",
   "nbconvert_exporter": "python",
   "pygments_lexer": "ipython3",
   "version": "3.11.7"
  }
 },
 "nbformat": 4,
 "nbformat_minor": 5
}
